{
 "cells": [
  {
   "cell_type": "code",
   "execution_count": null,
   "id": "e6c2e803",
   "metadata": {},
   "outputs": [],
   "source": [
    "import pandas as pd\n",
    "import numpy as np\n",
    "import matplotlib.pyplot as plt\n",
    "import seaborn as sns\n",
    "import warnings\n",
    "warnings.filterwarnings('ignore')"
   ]
  },
  {
   "cell_type": "code",
   "execution_count": null,
   "id": "57e8a75a",
   "metadata": {},
   "outputs": [],
   "source": [
    "data = pd.read_csv(\"/Users/apple/Downloads/airline.csv\")"
   ]
  },
  {
   "cell_type": "code",
   "execution_count": null,
   "id": "6c32aa61",
   "metadata": {
    "scrolled": true
   },
   "outputs": [
    {
     "data": {
      "text/html": [
       "<div>\n",
       "<style scoped>\n",
       "    .dataframe tbody tr th:only-of-type {\n",
       "        vertical-align: middle;\n",
       "    }\n",
       "\n",
       "    .dataframe tbody tr th {\n",
       "        vertical-align: top;\n",
       "    }\n",
       "\n",
       "    .dataframe thead th {\n",
       "        text-align: right;\n",
       "    }\n",
       "</style>\n",
       "<table border=\"1\" class=\"dataframe\">\n",
       "  <thead>\n",
       "    <tr style=\"text-align: right;\">\n",
       "      <th></th>\n",
       "      <th>Passanger_Name</th>\n",
       "      <th>Flying_month</th>\n",
       "      <th>Route</th>\n",
       "      <th>Rating</th>\n",
       "      <th>Verified</th>\n",
       "      <th>Review_title</th>\n",
       "      <th>Review_content</th>\n",
       "      <th>Traveller_type</th>\n",
       "      <th>Class</th>\n",
       "    </tr>\n",
       "  </thead>\n",
       "  <tbody>\n",
       "    <tr>\n",
       "      <th>0</th>\n",
       "      <td>Paige Boet</td>\n",
       "      <td>Jun-23</td>\n",
       "      <td>New Orleans to London</td>\n",
       "      <td>1.0</td>\n",
       "      <td>Trip Verified</td>\n",
       "      <td>The airline lost my luggage</td>\n",
       "      <td>The airline lost my luggage and was absolutely...</td>\n",
       "      <td>Embraer</td>\n",
       "      <td>Economy Class</td>\n",
       "    </tr>\n",
       "    <tr>\n",
       "      <th>1</th>\n",
       "      <td>S Layne</td>\n",
       "      <td>Mar-23</td>\n",
       "      <td>London to Amman</td>\n",
       "      <td>1.0</td>\n",
       "      <td>Trip Verified</td>\n",
       "      <td>fully refunded by our travel insurance</td>\n",
       "      <td>We booked on the BA website, round trip flight...</td>\n",
       "      <td>Airbus</td>\n",
       "      <td>Business Class</td>\n",
       "    </tr>\n",
       "    <tr>\n",
       "      <th>2</th>\n",
       "      <td>E Lanewoski</td>\n",
       "      <td>Heathrow to Bodrum</td>\n",
       "      <td>Business Class</td>\n",
       "      <td>2.0</td>\n",
       "      <td>Trip Verified</td>\n",
       "      <td>no boarding drinks provided</td>\n",
       "      <td>First time flying with BA business class, neve...</td>\n",
       "      <td>Airbus</td>\n",
       "      <td>Business Class</td>\n",
       "    </tr>\n",
       "    <tr>\n",
       "      <th>3</th>\n",
       "      <td>Joel Burman</td>\n",
       "      <td>Jun-23</td>\n",
       "      <td>Amman to London</td>\n",
       "      <td>4.0</td>\n",
       "      <td>Not Verified</td>\n",
       "      <td>WiFi didn't work</td>\n",
       "      <td>You can buy sandwiches and crisps but don't ex...</td>\n",
       "      <td>Embraer</td>\n",
       "      <td>Economy Class</td>\n",
       "    </tr>\n",
       "    <tr>\n",
       "      <th>4</th>\n",
       "      <td>R Vines</td>\n",
       "      <td>Jul-23</td>\n",
       "      <td>Business Class</td>\n",
       "      <td>7.0</td>\n",
       "      <td>Trip Verified</td>\n",
       "      <td>stick with economy</td>\n",
       "      <td>This is a two-for-one review covering economy ...</td>\n",
       "      <td>Embraer</td>\n",
       "      <td>Family Leisure</td>\n",
       "    </tr>\n",
       "    <tr>\n",
       "      <th>...</th>\n",
       "      <td>...</td>\n",
       "      <td>...</td>\n",
       "      <td>...</td>\n",
       "      <td>...</td>\n",
       "      <td>...</td>\n",
       "      <td>...</td>\n",
       "      <td>...</td>\n",
       "      <td>...</td>\n",
       "      <td>...</td>\n",
       "    </tr>\n",
       "    <tr>\n",
       "      <th>3575</th>\n",
       "      <td>W Benson</td>\n",
       "      <td>NaN</td>\n",
       "      <td>NaN</td>\n",
       "      <td>4.0</td>\n",
       "      <td>NaN</td>\n",
       "      <td>British Airways customer review</td>\n",
       "      <td>LHR-HKG on Boeing 747 - 23/08/12. Much has bee...</td>\n",
       "      <td>Boeing</td>\n",
       "      <td>Economy Class</td>\n",
       "    </tr>\n",
       "    <tr>\n",
       "      <th>3576</th>\n",
       "      <td>S Luqman</td>\n",
       "      <td>NaN</td>\n",
       "      <td>NaN</td>\n",
       "      <td>4.0</td>\n",
       "      <td>NaN</td>\n",
       "      <td>British Airways customer review</td>\n",
       "      <td>Just got back from Bridgetown Barbados flying ...</td>\n",
       "      <td>Boeing</td>\n",
       "      <td>Economy Class</td>\n",
       "    </tr>\n",
       "    <tr>\n",
       "      <th>3577</th>\n",
       "      <td>D Smith</td>\n",
       "      <td>NaN</td>\n",
       "      <td>NaN</td>\n",
       "      <td>4.0</td>\n",
       "      <td>NaN</td>\n",
       "      <td>British Airways customer review</td>\n",
       "      <td>LHR-JFK-LAX-LHR. Check in was ok apart from be...</td>\n",
       "      <td>Boeing</td>\n",
       "      <td>Economy Class</td>\n",
       "    </tr>\n",
       "    <tr>\n",
       "      <th>3578</th>\n",
       "      <td>W Benson</td>\n",
       "      <td>NaN</td>\n",
       "      <td>NaN</td>\n",
       "      <td>6.0</td>\n",
       "      <td>NaN</td>\n",
       "      <td>British Airways customer review</td>\n",
       "      <td>HKG-LHR in New Club World on Boeing Boeing</td>\n",
       "      <td>Boeing</td>\n",
       "      <td>Business Class</td>\n",
       "    </tr>\n",
       "    <tr>\n",
       "      <th>3579</th>\n",
       "      <td>Michael Dielissen</td>\n",
       "      <td>NaN</td>\n",
       "      <td>NaN</td>\n",
       "      <td>8.0</td>\n",
       "      <td>NaN</td>\n",
       "      <td>British Airways customer review</td>\n",
       "      <td>YYZ to LHR - July 2012 - I flew overnight in p...</td>\n",
       "      <td>Saab</td>\n",
       "      <td>Premium Economy</td>\n",
       "    </tr>\n",
       "  </tbody>\n",
       "</table>\n",
       "<p>3580 rows × 9 columns</p>\n",
       "</div>"
      ],
      "text/plain": [
       "         Passanger_Name        Flying_month                  Route  Rating  \\\n",
       "0            Paige Boet              Jun-23  New Orleans to London     1.0   \n",
       "1               S Layne              Mar-23        London to Amman     1.0   \n",
       "2           E Lanewoski  Heathrow to Bodrum         Business Class     2.0   \n",
       "3           Joel Burman              Jun-23        Amman to London     4.0   \n",
       "4               R Vines              Jul-23         Business Class     7.0   \n",
       "...                 ...                 ...                    ...     ...   \n",
       "3575           W Benson                 NaN                    NaN     4.0   \n",
       "3576           S Luqman                 NaN                    NaN     4.0   \n",
       "3577            D Smith                 NaN                    NaN     4.0   \n",
       "3578           W Benson                 NaN                    NaN     6.0   \n",
       "3579  Michael Dielissen                 NaN                    NaN     8.0   \n",
       "\n",
       "           Verified                            Review_title  \\\n",
       "0     Trip Verified             The airline lost my luggage   \n",
       "1     Trip Verified  fully refunded by our travel insurance   \n",
       "2     Trip Verified             no boarding drinks provided   \n",
       "3      Not Verified                       WiFi didn't work    \n",
       "4     Trip Verified                      stick with economy   \n",
       "...             ...                                     ...   \n",
       "3575            NaN         British Airways customer review   \n",
       "3576            NaN         British Airways customer review   \n",
       "3577            NaN         British Airways customer review   \n",
       "3578            NaN         British Airways customer review   \n",
       "3579            NaN         British Airways customer review   \n",
       "\n",
       "                                         Review_content Traveller_type  \\\n",
       "0     The airline lost my luggage and was absolutely...        Embraer   \n",
       "1     We booked on the BA website, round trip flight...         Airbus   \n",
       "2     First time flying with BA business class, neve...         Airbus   \n",
       "3     You can buy sandwiches and crisps but don't ex...        Embraer   \n",
       "4     This is a two-for-one review covering economy ...        Embraer   \n",
       "...                                                 ...            ...   \n",
       "3575  LHR-HKG on Boeing 747 - 23/08/12. Much has bee...         Boeing   \n",
       "3576  Just got back from Bridgetown Barbados flying ...         Boeing   \n",
       "3577  LHR-JFK-LAX-LHR. Check in was ok apart from be...         Boeing   \n",
       "3578         HKG-LHR in New Club World on Boeing Boeing         Boeing   \n",
       "3579  YYZ to LHR - July 2012 - I flew overnight in p...           Saab   \n",
       "\n",
       "                Class  \n",
       "0       Economy Class  \n",
       "1      Business Class  \n",
       "2      Business Class  \n",
       "3       Economy Class  \n",
       "4      Family Leisure  \n",
       "...               ...  \n",
       "3575    Economy Class  \n",
       "3576    Economy Class  \n",
       "3577    Economy Class  \n",
       "3578   Business Class  \n",
       "3579  Premium Economy  \n",
       "\n",
       "[3580 rows x 9 columns]"
      ]
     },
     "execution_count": 33,
     "metadata": {},
     "output_type": "execute_result"
    }
   ],
   "source": [
    "data\n"
   ]
  },
  {
   "cell_type": "code",
   "execution_count": null,
   "id": "9b24b0e8",
   "metadata": {
    "scrolled": true
   },
   "outputs": [
    {
     "data": {
      "text/html": [
       "<div>\n",
       "<style scoped>\n",
       "    .dataframe tbody tr th:only-of-type {\n",
       "        vertical-align: middle;\n",
       "    }\n",
       "\n",
       "    .dataframe tbody tr th {\n",
       "        vertical-align: top;\n",
       "    }\n",
       "\n",
       "    .dataframe thead th {\n",
       "        text-align: right;\n",
       "    }\n",
       "</style>\n",
       "<table border=\"1\" class=\"dataframe\">\n",
       "  <thead>\n",
       "    <tr style=\"text-align: right;\">\n",
       "      <th></th>\n",
       "      <th>Passanger_Name</th>\n",
       "      <th>Flying_month</th>\n",
       "      <th>Route</th>\n",
       "      <th>Rating</th>\n",
       "      <th>Verified</th>\n",
       "      <th>Review_title</th>\n",
       "      <th>Review_content</th>\n",
       "      <th>Traveller_type</th>\n",
       "      <th>Class</th>\n",
       "    </tr>\n",
       "  </thead>\n",
       "  <tbody>\n",
       "    <tr>\n",
       "      <th>0</th>\n",
       "      <td>Paige Boet</td>\n",
       "      <td>Jun-23</td>\n",
       "      <td>New Orleans to London</td>\n",
       "      <td>1.0</td>\n",
       "      <td>Trip Verified</td>\n",
       "      <td>The airline lost my luggage</td>\n",
       "      <td>The airline lost my luggage and was absolutely...</td>\n",
       "      <td>Embraer</td>\n",
       "      <td>Economy Class</td>\n",
       "    </tr>\n",
       "    <tr>\n",
       "      <th>1</th>\n",
       "      <td>S Layne</td>\n",
       "      <td>Mar-23</td>\n",
       "      <td>London to Amman</td>\n",
       "      <td>1.0</td>\n",
       "      <td>Trip Verified</td>\n",
       "      <td>fully refunded by our travel insurance</td>\n",
       "      <td>We booked on the BA website, round trip flight...</td>\n",
       "      <td>Airbus</td>\n",
       "      <td>Business Class</td>\n",
       "    </tr>\n",
       "    <tr>\n",
       "      <th>2</th>\n",
       "      <td>E Lanewoski</td>\n",
       "      <td>Heathrow to Bodrum</td>\n",
       "      <td>Business Class</td>\n",
       "      <td>2.0</td>\n",
       "      <td>Trip Verified</td>\n",
       "      <td>no boarding drinks provided</td>\n",
       "      <td>First time flying with BA business class, neve...</td>\n",
       "      <td>Airbus</td>\n",
       "      <td>Business Class</td>\n",
       "    </tr>\n",
       "    <tr>\n",
       "      <th>3</th>\n",
       "      <td>Joel Burman</td>\n",
       "      <td>Jun-23</td>\n",
       "      <td>Amman to London</td>\n",
       "      <td>4.0</td>\n",
       "      <td>Not Verified</td>\n",
       "      <td>WiFi didn't work</td>\n",
       "      <td>You can buy sandwiches and crisps but don't ex...</td>\n",
       "      <td>Embraer</td>\n",
       "      <td>Economy Class</td>\n",
       "    </tr>\n",
       "    <tr>\n",
       "      <th>4</th>\n",
       "      <td>R Vines</td>\n",
       "      <td>Jul-23</td>\n",
       "      <td>Business Class</td>\n",
       "      <td>7.0</td>\n",
       "      <td>Trip Verified</td>\n",
       "      <td>stick with economy</td>\n",
       "      <td>This is a two-for-one review covering economy ...</td>\n",
       "      <td>Embraer</td>\n",
       "      <td>Family Leisure</td>\n",
       "    </tr>\n",
       "  </tbody>\n",
       "</table>\n",
       "</div>"
      ],
      "text/plain": [
       "  Passanger_Name        Flying_month                  Route  Rating  \\\n",
       "0     Paige Boet              Jun-23  New Orleans to London     1.0   \n",
       "1        S Layne              Mar-23        London to Amman     1.0   \n",
       "2    E Lanewoski  Heathrow to Bodrum         Business Class     2.0   \n",
       "3    Joel Burman              Jun-23        Amman to London     4.0   \n",
       "4        R Vines              Jul-23         Business Class     7.0   \n",
       "\n",
       "        Verified                            Review_title  \\\n",
       "0  Trip Verified             The airline lost my luggage   \n",
       "1  Trip Verified  fully refunded by our travel insurance   \n",
       "2  Trip Verified             no boarding drinks provided   \n",
       "3   Not Verified                       WiFi didn't work    \n",
       "4  Trip Verified                      stick with economy   \n",
       "\n",
       "                                      Review_content Traveller_type  \\\n",
       "0  The airline lost my luggage and was absolutely...        Embraer   \n",
       "1  We booked on the BA website, round trip flight...         Airbus   \n",
       "2  First time flying with BA business class, neve...         Airbus   \n",
       "3  You can buy sandwiches and crisps but don't ex...        Embraer   \n",
       "4  This is a two-for-one review covering economy ...        Embraer   \n",
       "\n",
       "            Class  \n",
       "0   Economy Class  \n",
       "1  Business Class  \n",
       "2  Business Class  \n",
       "3   Economy Class  \n",
       "4  Family Leisure  "
      ]
     },
     "execution_count": 34,
     "metadata": {},
     "output_type": "execute_result"
    }
   ],
   "source": [
    "data.head()"
   ]
  },
  {
   "cell_type": "code",
   "execution_count": null,
   "id": "6241a50e",
   "metadata": {},
   "outputs": [
    {
     "data": {
      "text/html": [
       "<div>\n",
       "<style scoped>\n",
       "    .dataframe tbody tr th:only-of-type {\n",
       "        vertical-align: middle;\n",
       "    }\n",
       "\n",
       "    .dataframe tbody tr th {\n",
       "        vertical-align: top;\n",
       "    }\n",
       "\n",
       "    .dataframe thead th {\n",
       "        text-align: right;\n",
       "    }\n",
       "</style>\n",
       "<table border=\"1\" class=\"dataframe\">\n",
       "  <thead>\n",
       "    <tr style=\"text-align: right;\">\n",
       "      <th></th>\n",
       "      <th>Passanger_Name</th>\n",
       "      <th>Flying_month</th>\n",
       "      <th>Route</th>\n",
       "      <th>Rating</th>\n",
       "      <th>Verified</th>\n",
       "      <th>Review_title</th>\n",
       "      <th>Review_content</th>\n",
       "      <th>Traveller_type</th>\n",
       "      <th>Class</th>\n",
       "    </tr>\n",
       "  </thead>\n",
       "  <tbody>\n",
       "    <tr>\n",
       "      <th>3575</th>\n",
       "      <td>W Benson</td>\n",
       "      <td>NaN</td>\n",
       "      <td>NaN</td>\n",
       "      <td>4.0</td>\n",
       "      <td>NaN</td>\n",
       "      <td>British Airways customer review</td>\n",
       "      <td>LHR-HKG on Boeing 747 - 23/08/12. Much has bee...</td>\n",
       "      <td>Boeing</td>\n",
       "      <td>Economy Class</td>\n",
       "    </tr>\n",
       "    <tr>\n",
       "      <th>3576</th>\n",
       "      <td>S Luqman</td>\n",
       "      <td>NaN</td>\n",
       "      <td>NaN</td>\n",
       "      <td>4.0</td>\n",
       "      <td>NaN</td>\n",
       "      <td>British Airways customer review</td>\n",
       "      <td>Just got back from Bridgetown Barbados flying ...</td>\n",
       "      <td>Boeing</td>\n",
       "      <td>Economy Class</td>\n",
       "    </tr>\n",
       "    <tr>\n",
       "      <th>3577</th>\n",
       "      <td>D Smith</td>\n",
       "      <td>NaN</td>\n",
       "      <td>NaN</td>\n",
       "      <td>4.0</td>\n",
       "      <td>NaN</td>\n",
       "      <td>British Airways customer review</td>\n",
       "      <td>LHR-JFK-LAX-LHR. Check in was ok apart from be...</td>\n",
       "      <td>Boeing</td>\n",
       "      <td>Economy Class</td>\n",
       "    </tr>\n",
       "    <tr>\n",
       "      <th>3578</th>\n",
       "      <td>W Benson</td>\n",
       "      <td>NaN</td>\n",
       "      <td>NaN</td>\n",
       "      <td>6.0</td>\n",
       "      <td>NaN</td>\n",
       "      <td>British Airways customer review</td>\n",
       "      <td>HKG-LHR in New Club World on Boeing Boeing</td>\n",
       "      <td>Boeing</td>\n",
       "      <td>Business Class</td>\n",
       "    </tr>\n",
       "    <tr>\n",
       "      <th>3579</th>\n",
       "      <td>Michael Dielissen</td>\n",
       "      <td>NaN</td>\n",
       "      <td>NaN</td>\n",
       "      <td>8.0</td>\n",
       "      <td>NaN</td>\n",
       "      <td>British Airways customer review</td>\n",
       "      <td>YYZ to LHR - July 2012 - I flew overnight in p...</td>\n",
       "      <td>Saab</td>\n",
       "      <td>Premium Economy</td>\n",
       "    </tr>\n",
       "  </tbody>\n",
       "</table>\n",
       "</div>"
      ],
      "text/plain": [
       "         Passanger_Name Flying_month Route  Rating Verified  \\\n",
       "3575           W Benson          NaN   NaN     4.0      NaN   \n",
       "3576           S Luqman          NaN   NaN     4.0      NaN   \n",
       "3577            D Smith          NaN   NaN     4.0      NaN   \n",
       "3578           W Benson          NaN   NaN     6.0      NaN   \n",
       "3579  Michael Dielissen          NaN   NaN     8.0      NaN   \n",
       "\n",
       "                         Review_title  \\\n",
       "3575  British Airways customer review   \n",
       "3576  British Airways customer review   \n",
       "3577  British Airways customer review   \n",
       "3578  British Airways customer review   \n",
       "3579  British Airways customer review   \n",
       "\n",
       "                                         Review_content Traveller_type  \\\n",
       "3575  LHR-HKG on Boeing 747 - 23/08/12. Much has bee...         Boeing   \n",
       "3576  Just got back from Bridgetown Barbados flying ...         Boeing   \n",
       "3577  LHR-JFK-LAX-LHR. Check in was ok apart from be...         Boeing   \n",
       "3578         HKG-LHR in New Club World on Boeing Boeing         Boeing   \n",
       "3579  YYZ to LHR - July 2012 - I flew overnight in p...           Saab   \n",
       "\n",
       "                Class  \n",
       "3575    Economy Class  \n",
       "3576    Economy Class  \n",
       "3577    Economy Class  \n",
       "3578   Business Class  \n",
       "3579  Premium Economy  "
      ]
     },
     "execution_count": 35,
     "metadata": {},
     "output_type": "execute_result"
    }
   ],
   "source": [
    "data.tail()"
   ]
  },
  {
   "cell_type": "code",
   "execution_count": null,
   "id": "d48392a0",
   "metadata": {},
   "outputs": [
    {
     "data": {
      "text/html": [
       "<div>\n",
       "<style scoped>\n",
       "    .dataframe tbody tr th:only-of-type {\n",
       "        vertical-align: middle;\n",
       "    }\n",
       "\n",
       "    .dataframe tbody tr th {\n",
       "        vertical-align: top;\n",
       "    }\n",
       "\n",
       "    .dataframe thead th {\n",
       "        text-align: right;\n",
       "    }\n",
       "</style>\n",
       "<table border=\"1\" class=\"dataframe\">\n",
       "  <thead>\n",
       "    <tr style=\"text-align: right;\">\n",
       "      <th></th>\n",
       "      <th>Rating</th>\n",
       "    </tr>\n",
       "  </thead>\n",
       "  <tbody>\n",
       "    <tr>\n",
       "      <th>count</th>\n",
       "      <td>3575.000000</td>\n",
       "    </tr>\n",
       "    <tr>\n",
       "      <th>mean</th>\n",
       "      <td>4.790490</td>\n",
       "    </tr>\n",
       "    <tr>\n",
       "      <th>std</th>\n",
       "      <td>3.170323</td>\n",
       "    </tr>\n",
       "    <tr>\n",
       "      <th>min</th>\n",
       "      <td>1.000000</td>\n",
       "    </tr>\n",
       "    <tr>\n",
       "      <th>25%</th>\n",
       "      <td>2.000000</td>\n",
       "    </tr>\n",
       "    <tr>\n",
       "      <th>50%</th>\n",
       "      <td>4.000000</td>\n",
       "    </tr>\n",
       "    <tr>\n",
       "      <th>75%</th>\n",
       "      <td>8.000000</td>\n",
       "    </tr>\n",
       "    <tr>\n",
       "      <th>max</th>\n",
       "      <td>10.000000</td>\n",
       "    </tr>\n",
       "  </tbody>\n",
       "</table>\n",
       "</div>"
      ],
      "text/plain": [
       "            Rating\n",
       "count  3575.000000\n",
       "mean      4.790490\n",
       "std       3.170323\n",
       "min       1.000000\n",
       "25%       2.000000\n",
       "50%       4.000000\n",
       "75%       8.000000\n",
       "max      10.000000"
      ]
     },
     "execution_count": 36,
     "metadata": {},
     "output_type": "execute_result"
    }
   ],
   "source": [
    "data.describe()"
   ]
  },
  {
   "cell_type": "code",
   "execution_count": null,
   "id": "0827058c",
   "metadata": {},
   "outputs": [
    {
     "name": "stdout",
     "output_type": "stream",
     "text": [
      "<class 'pandas.core.frame.DataFrame'>\n",
      "RangeIndex: 3580 entries, 0 to 3579\n",
      "Data columns (total 9 columns):\n",
      " #   Column          Non-Null Count  Dtype  \n",
      "---  ------          --------------  -----  \n",
      " 0   Passanger_Name  3580 non-null   object \n",
      " 1   Flying_month    2815 non-null   object \n",
      " 2   Route           2816 non-null   object \n",
      " 3   Rating          3575 non-null   float64\n",
      " 4   Verified        1270 non-null   object \n",
      " 5   Review_title    3580 non-null   object \n",
      " 6   Review_content  3580 non-null   object \n",
      " 7   Traveller_type  3580 non-null   object \n",
      " 8   Class           3580 non-null   object \n",
      "dtypes: float64(1), object(8)\n",
      "memory usage: 251.8+ KB\n"
     ]
    }
   ],
   "source": [
    "data.info()"
   ]
  },
  {
   "cell_type": "code",
   "execution_count": null,
   "id": "95866db9",
   "metadata": {},
   "outputs": [
    {
     "data": {
      "text/plain": [
       "Passanger_Name       0\n",
       "Flying_month       765\n",
       "Route              764\n",
       "Rating               5\n",
       "Verified          2310\n",
       "Review_title         0\n",
       "Review_content       0\n",
       "Traveller_type       0\n",
       "Class                0\n",
       "dtype: int64"
      ]
     },
     "execution_count": 38,
     "metadata": {},
     "output_type": "execute_result"
    }
   ],
   "source": [
    "# check the number of null values for each column in the dataset\n",
    "data.isnull().sum()"
   ]
  },
  {
   "cell_type": "code",
   "execution_count": null,
   "id": "15dcddf1",
   "metadata": {},
   "outputs": [
    {
     "data": {
      "text/plain": [
       "Passanger_Name     0.0\n",
       "Flying_month      21.0\n",
       "Route             21.0\n",
       "Rating             0.0\n",
       "Verified          65.0\n",
       "Review_title       0.0\n",
       "Review_content     0.0\n",
       "Traveller_type     0.0\n",
       "Class              0.0\n",
       "dtype: float64"
      ]
     },
     "execution_count": 39,
     "metadata": {},
     "output_type": "execute_result"
    }
   ],
   "source": [
    "# calculate percentage of null values for each column in the dataset\n",
    "round(data.isnull().sum()/len(data)* 100)"
   ]
  },
  {
   "cell_type": "code",
   "execution_count": null,
   "id": "de653db1",
   "metadata": {
    "scrolled": true
   },
   "outputs": [
    {
     "name": "stdout",
     "output_type": "stream",
     "text": [
      "<class 'pandas.core.frame.DataFrame'>\n",
      "RangeIndex: 3580 entries, 0 to 3579\n",
      "Data columns (total 5 columns):\n",
      " #   Column          Non-Null Count  Dtype  \n",
      "---  ------          --------------  -----  \n",
      " 0   Rating          3575 non-null   float64\n",
      " 1   Review_title    3580 non-null   object \n",
      " 2   Review_content  3580 non-null   object \n",
      " 3   Traveller_type  3580 non-null   object \n",
      " 4   Class           3580 non-null   object \n",
      "dtypes: float64(1), object(4)\n",
      "memory usage: 140.0+ KB\n"
     ]
    }
   ],
   "source": [
    "# dropping the columns which has more than 10% null values\n",
    "data = data.drop(['Passanger_Name', 'Route' , 'Verified' , 'Flying_month'], axis = 1)\n",
    "data.info()\n"
   ]
  },
  {
   "cell_type": "code",
   "execution_count": null,
   "id": "cebb13d3",
   "metadata": {},
   "outputs": [
    {
     "data": {
      "text/html": [
       "<div>\n",
       "<style scoped>\n",
       "    .dataframe tbody tr th:only-of-type {\n",
       "        vertical-align: middle;\n",
       "    }\n",
       "\n",
       "    .dataframe tbody tr th {\n",
       "        vertical-align: top;\n",
       "    }\n",
       "\n",
       "    .dataframe thead th {\n",
       "        text-align: right;\n",
       "    }\n",
       "</style>\n",
       "<table border=\"1\" class=\"dataframe\">\n",
       "  <thead>\n",
       "    <tr style=\"text-align: right;\">\n",
       "      <th></th>\n",
       "      <th>Rating</th>\n",
       "      <th>Review_title</th>\n",
       "      <th>Review_content</th>\n",
       "      <th>Traveller_type</th>\n",
       "      <th>Class</th>\n",
       "    </tr>\n",
       "  </thead>\n",
       "  <tbody>\n",
       "    <tr>\n",
       "      <th>0</th>\n",
       "      <td>1.0</td>\n",
       "      <td>The airline lost my luggage</td>\n",
       "      <td>The airline lost my luggage and was absolutely...</td>\n",
       "      <td>Embraer</td>\n",
       "      <td>Economy Class</td>\n",
       "    </tr>\n",
       "    <tr>\n",
       "      <th>1</th>\n",
       "      <td>1.0</td>\n",
       "      <td>fully refunded by our travel insurance</td>\n",
       "      <td>We booked on the BA website, round trip flight...</td>\n",
       "      <td>Airbus</td>\n",
       "      <td>Business Class</td>\n",
       "    </tr>\n",
       "    <tr>\n",
       "      <th>2</th>\n",
       "      <td>2.0</td>\n",
       "      <td>no boarding drinks provided</td>\n",
       "      <td>First time flying with BA business class, neve...</td>\n",
       "      <td>Airbus</td>\n",
       "      <td>Business Class</td>\n",
       "    </tr>\n",
       "    <tr>\n",
       "      <th>3</th>\n",
       "      <td>4.0</td>\n",
       "      <td>WiFi didn't work</td>\n",
       "      <td>You can buy sandwiches and crisps but don't ex...</td>\n",
       "      <td>Embraer</td>\n",
       "      <td>Economy Class</td>\n",
       "    </tr>\n",
       "    <tr>\n",
       "      <th>4</th>\n",
       "      <td>7.0</td>\n",
       "      <td>stick with economy</td>\n",
       "      <td>This is a two-for-one review covering economy ...</td>\n",
       "      <td>Embraer</td>\n",
       "      <td>Family Leisure</td>\n",
       "    </tr>\n",
       "    <tr>\n",
       "      <th>...</th>\n",
       "      <td>...</td>\n",
       "      <td>...</td>\n",
       "      <td>...</td>\n",
       "      <td>...</td>\n",
       "      <td>...</td>\n",
       "    </tr>\n",
       "    <tr>\n",
       "      <th>3575</th>\n",
       "      <td>4.0</td>\n",
       "      <td>British Airways customer review</td>\n",
       "      <td>LHR-HKG on Boeing 747 - 23/08/12. Much has bee...</td>\n",
       "      <td>Boeing</td>\n",
       "      <td>Economy Class</td>\n",
       "    </tr>\n",
       "    <tr>\n",
       "      <th>3576</th>\n",
       "      <td>4.0</td>\n",
       "      <td>British Airways customer review</td>\n",
       "      <td>Just got back from Bridgetown Barbados flying ...</td>\n",
       "      <td>Boeing</td>\n",
       "      <td>Economy Class</td>\n",
       "    </tr>\n",
       "    <tr>\n",
       "      <th>3577</th>\n",
       "      <td>4.0</td>\n",
       "      <td>British Airways customer review</td>\n",
       "      <td>LHR-JFK-LAX-LHR. Check in was ok apart from be...</td>\n",
       "      <td>Boeing</td>\n",
       "      <td>Economy Class</td>\n",
       "    </tr>\n",
       "    <tr>\n",
       "      <th>3578</th>\n",
       "      <td>6.0</td>\n",
       "      <td>British Airways customer review</td>\n",
       "      <td>HKG-LHR in New Club World on Boeing Boeing</td>\n",
       "      <td>Boeing</td>\n",
       "      <td>Business Class</td>\n",
       "    </tr>\n",
       "    <tr>\n",
       "      <th>3579</th>\n",
       "      <td>8.0</td>\n",
       "      <td>British Airways customer review</td>\n",
       "      <td>YYZ to LHR - July 2012 - I flew overnight in p...</td>\n",
       "      <td>Saab</td>\n",
       "      <td>Premium Economy</td>\n",
       "    </tr>\n",
       "  </tbody>\n",
       "</table>\n",
       "<p>3580 rows × 5 columns</p>\n",
       "</div>"
      ],
      "text/plain": [
       "      Rating                            Review_title  \\\n",
       "0        1.0             The airline lost my luggage   \n",
       "1        1.0  fully refunded by our travel insurance   \n",
       "2        2.0             no boarding drinks provided   \n",
       "3        4.0                       WiFi didn't work    \n",
       "4        7.0                      stick with economy   \n",
       "...      ...                                     ...   \n",
       "3575     4.0         British Airways customer review   \n",
       "3576     4.0         British Airways customer review   \n",
       "3577     4.0         British Airways customer review   \n",
       "3578     6.0         British Airways customer review   \n",
       "3579     8.0         British Airways customer review   \n",
       "\n",
       "                                         Review_content Traveller_type  \\\n",
       "0     The airline lost my luggage and was absolutely...        Embraer   \n",
       "1     We booked on the BA website, round trip flight...         Airbus   \n",
       "2     First time flying with BA business class, neve...         Airbus   \n",
       "3     You can buy sandwiches and crisps but don't ex...        Embraer   \n",
       "4     This is a two-for-one review covering economy ...        Embraer   \n",
       "...                                                 ...            ...   \n",
       "3575  LHR-HKG on Boeing 747 - 23/08/12. Much has bee...         Boeing   \n",
       "3576  Just got back from Bridgetown Barbados flying ...         Boeing   \n",
       "3577  LHR-JFK-LAX-LHR. Check in was ok apart from be...         Boeing   \n",
       "3578         HKG-LHR in New Club World on Boeing Boeing         Boeing   \n",
       "3579  YYZ to LHR - July 2012 - I flew overnight in p...           Saab   \n",
       "\n",
       "                Class  \n",
       "0       Economy Class  \n",
       "1      Business Class  \n",
       "2      Business Class  \n",
       "3       Economy Class  \n",
       "4      Family Leisure  \n",
       "...               ...  \n",
       "3575    Economy Class  \n",
       "3576    Economy Class  \n",
       "3577    Economy Class  \n",
       "3578   Business Class  \n",
       "3579  Premium Economy  \n",
       "\n",
       "[3580 rows x 5 columns]"
      ]
     },
     "execution_count": 41,
     "metadata": {},
     "output_type": "execute_result"
    }
   ],
   "source": [
    "data"
   ]
  },
  {
   "cell_type": "code",
   "execution_count": null,
   "id": "1a85c68f",
   "metadata": {},
   "outputs": [
    {
     "name": "stdout",
     "output_type": "stream",
     "text": [
      "Categorical Variables:\n",
      "Index(['Review_title', 'Review_content', 'Traveller_type', 'Class'], dtype='object')\n",
      "Numerical Variables:\n",
      "['Rating']\n"
     ]
    }
   ],
   "source": [
    "cat_cols=data.select_dtypes(include=['object']).columns\n",
    "num_cols = data.select_dtypes(include=np.number).columns.tolist()\n",
    "print(\"Categorical Variables:\")\n",
    "print(cat_cols)\n",
    "print(\"Numerical Variables:\")\n",
    "print(num_cols)"
   ]
  },
  {
   "cell_type": "code",
   "execution_count": null,
   "id": "f727ebef",
   "metadata": {
    "scrolled": true
   },
   "outputs": [],
   "source": [
    "column_name = 'Traveller_type'\n",
    "old_value = 'no'\n",
    "new_value = 'Others'\n",
    "\n",
    "data[column_name].replace(to_replace=old_value, value=new_value, inplace=True)"
   ]
  },
  {
   "cell_type": "code",
   "execution_count": null,
   "id": "87eb7a49",
   "metadata": {},
   "outputs": [
    {
     "data": {
      "text/plain": [
       "4.785195530726257"
      ]
     },
     "execution_count": 52,
     "metadata": {},
     "output_type": "execute_result"
    }
   ],
   "source": [
    "mean1= data['Rating'].mean()\n",
    "mean1"
   ]
  },
  {
   "cell_type": "code",
   "execution_count": null,
   "id": "8668bdb1",
   "metadata": {},
   "outputs": [],
   "source": [
    "column_name = 'Traveller_type'\n",
    "data[column_name].fillna(value='Others', inplace=True)"
   ]
  },
  {
   "cell_type": "code",
   "execution_count": null,
   "id": "ceb15cdf",
   "metadata": {},
   "outputs": [],
   "source": [
    "column_name = 'Rating'\n",
    "data[column_name].fillna(value=1, inplace=True)"
   ]
  },
  {
   "cell_type": "code",
   "execution_count": null,
   "id": "d5d742d0",
   "metadata": {},
   "outputs": [
    {
     "data": {
      "image/png": "[encoded data removed]",
      "text/plain": [
       "<Figure size 640x480 with 1 Axes>"
      ]
     },
     "metadata": {},
     "output_type": "display_data"
    }
   ],
   "source": [
    "plt.pie(data['Rating'].value_counts(), labels=data['Rating'].unique(), autopct='%1.1f%%', startangle=90, radius=1.6)\n",
    "\n",
    "plt.show()\n"
   ]
  },
  {
   "cell_type": "code",
   "execution_count": null,
   "id": "abdaa61c",
   "metadata": {},
   "outputs": [],
   "source": [
    "column_name = 'Class'\n",
    "old_value = 'Family Leisure '\n",
    "new_value = 'Family Leisure'\n",
    "\n",
    "data[column_name].replace(to_replace=old_value, value=new_value, inplace=True)"
   ]
  },
  {
   "cell_type": "code",
   "execution_count": null,
   "id": "7fdfedf9",
   "metadata": {},
   "outputs": [
    {
     "name": "stdout",
     "output_type": "stream",
     "text": [
      "Unique values in 'Class':\n",
      "['Economy Class' 'Business Class' 'Family Leisure' 'Couple Leisure'\n",
      " 'Premium Economy' 'Solo Leisure' 'First Class']\n"
     ]
    }
   ],
   "source": [
    "column_name = 'Class'\n",
    "unique_values = data[column_name].unique()\n",
    "print(f\"Unique values in '{column_name}':\")\n",
    "print(unique_values)"
   ]
  },
  {
   "cell_type": "code",
   "execution_count": null,
   "id": "2ce57a24",
   "metadata": {},
   "outputs": [
    {
     "name": "stdout",
     "output_type": "stream",
     "text": [
      "Unique values in 'Traveller_type':\n",
      "['Embraer' 'Airbus' 'Boeing' 'Saab' 'Others']\n"
     ]
    }
   ],
   "source": [
    "column_name = 'Traveller_type'\n",
    "unique_values = data[column_name].unique()\n",
    "print(f\"Unique values in '{column_name}':\")\n",
    "print(unique_values)"
   ]
  },
  {
   "cell_type": "code",
   "execution_count": null,
   "id": "4a1ef973",
   "metadata": {},
   "outputs": [],
   "source": [
    "column_name = 'Traveller_type'\n",
    "data[column_name].fillna(value='Other', inplace=True)"
   ]
  },
  {
   "cell_type": "code",
   "execution_count": null,
   "id": "b09e107d",
   "metadata": {},
   "outputs": [
    {
     "data": {
      "text/plain": [
       "Rating            0\n",
       "Review_title      0\n",
       "Review_content    0\n",
       "Traveller_type    0\n",
       "Class             0\n",
       "review_length     0\n",
       "sentiment         0\n",
       "dtype: int64"
      ]
     },
     "execution_count": 74,
     "metadata": {},
     "output_type": "execute_result"
    }
   ],
   "source": [
    "data.isnull().sum()"
   ]
  },
  {
   "cell_type": "code",
   "execution_count": null,
   "id": "5800adea",
   "metadata": {},
   "outputs": [
    {
     "data": {
      "image/png": "[encoded data removed]",
      "text/plain": [
       "<Figure size 1000x600 with 1 Axes>"
      ]
     },
     "metadata": {},
     "output_type": "display_data"
    }
   ],
   "source": [
    "plt.figure(figsize=(10, 6))\n",
    "plt.bar(data['Class'].value_counts().index, data['Class'].value_counts().values, color='lightpink')\n",
    "plt.title('Bar Graph of Class')\n",
    "plt.xlabel('Categories')\n",
    "plt.ylabel('Count')\n",
    "plt.xticks(rotation=45)\n",
    "plt.show()"
   ]
  },
  {
   "cell_type": "code",
   "execution_count": null,
   "id": "3863d048",
   "metadata": {},
   "outputs": [
    {
     "data": {
      "image/png": "[encoded data removed]",
      "text/plain": [
       "<Figure size 640x480 with 1 Axes>"
      ]
     },
     "metadata": {},
     "output_type": "display_data"
    }
   ],
   "source": [
    "data['review_length'] = data['Review_content'].apply(len)\n",
    "sns.histplot(x='review_length', data=data, bins=30 , color='skyblue', edgecolor='blue')\n",
    "plt.title('Distribution of Review Lengths')\n",
    "plt.show()\n"
   ]
  },
  {
   "cell_type": "code",
   "execution_count": null,
   "id": "6ea617fc",
   "metadata": {},
   "outputs": [
    {
     "name": "stdout",
     "output_type": "stream",
     "text": [
      "                                         Review_content sentiment\n",
      "0     The airline lost my luggage and was absolutely...  negative\n",
      "1     We booked on the BA website, round trip flight...  negative\n",
      "2     First time flying with BA business class, neve...   neutral\n",
      "3     You can buy sandwiches and crisps but don't ex...   neutral\n",
      "4     This is a two-for-one review covering economy ...  positive\n",
      "...                                                 ...       ...\n",
      "3575  LHR-HKG on Boeing 747 - 23/08/12. Much has bee...   neutral\n",
      "3576  Just got back from Bridgetown Barbados flying ...   neutral\n",
      "3577  LHR-JFK-LAX-LHR. Check in was ok apart from be...   neutral\n",
      "3578         HKG-LHR in New Club World on Boeing Boeing   neutral\n",
      "3579  YYZ to LHR - July 2012 - I flew overnight in p...   neutral\n",
      "\n",
      "[3580 rows x 2 columns]\n",
      "Number of positive comments: 488\n",
      "Number of negative comments: 1346\n",
      "Number of neutral comments: 1746\n"
     ]
    }
   ],
   "source": [
    "positive_words = ['excellent','outstanding','wonderful','fantastic', 'amazing','great','terrific','Impressive','Superb','Exceptional','Comfortable','Pleasant','Satisfying','Pleased','Delightful','Smooth','Efficient','Friendly','Helpful','Polite','Courteous','Attentive','Luxurious','Enjoyable','Top-notch']\n",
    "negative_words = ['delayed', 'delay', 'poor', 'horrible','cancelled', 'turbulence','uncomfortable','rude','loss','lost','inconvenient','untidy','unclean','dirty','late','lateness','expensive','noisy','confusing','cramped']\n",
    "\n",
    "def analyze_sentiment(comment):\n",
    "    words = comment.lower().split()\n",
    "\n",
    "    num_positive_words = sum(word in positive_words for word in words)\n",
    "    num_negative_words = sum(word in negative_words for word in words)\n",
    "    \n",
    "    if num_positive_words > num_negative_words:\n",
    "        return 'positive'\n",
    "    elif num_positive_words < num_negative_words:\n",
    "        return 'negative'\n",
    "    else:\n",
    "        return 'neutral'\n",
    "\n",
    "data['sentiment'] = data['Review_content'].apply(analyze_sentiment)\n",
    "\n",
    "# Display the result\n",
    "print(data[['Review_content', 'sentiment']])\n",
    "\n",
    "# count number of positive comments\n",
    "positive_comments_count = data['sentiment'].value_counts().get('positive', 0)\n",
    "print(f\"Number of positive comments: {positive_comments_count}\")\n",
    "\n",
    "# \n",
    "negative_comments_count = data['sentiment'].value_counts().get('negative', 0)\n",
    "print(f\"Number of negative comments: {negative_comments_count}\")\n",
    "\n",
    "neutral_comments_count = data['sentiment'].value_counts().get('neutral', 0)\n",
    "\n",
    "# Display the result\n",
    "print(f\"Number of neutral comments: {neutral_comments_count}\")"
   ]
  },
  {
   "cell_type": "code",
   "execution_count": null,
   "id": "e10775d0",
   "metadata": {},
   "outputs": [
    {
     "data": {
      "image/png": "[encoded data removed]",
      "text/plain": [
       "<Figure size 1000x600 with 1 Axes>"
      ]
     },
     "metadata": {},
     "output_type": "display_data"
    }
   ],
   "source": [
    "plt.figure(figsize=(10, 6))\n",
    "plt.bar(data['Traveller_type'].value_counts().index, data['Traveller_type'].value_counts().values, color=\"green\")\n",
    "plt.title('Bar Graph of Traveller Type')\n",
    "plt.xlabel('Categories')\n",
    "plt.ylabel('Count')\n",
    "plt.xticks(rotation=45)\n",
    "plt.show()"
   ]
  },
  {
   "cell_type": "code",
   "execution_count": null,
   "id": "bb4c8915",
   "metadata": {},
   "outputs": [
    {
     "name": "stdout",
     "output_type": "stream",
     "text": [
      "Current Directory: /Users/apple/Documents\n"
     ]
    }
   ],
   "source": [
    "import os\n",
    "\n",
    "# Get the current working directory\n",
    "current_directory = os.getcwd()\n",
    "\n",
    "# Print the current directory\n",
    "print(\"Current Directory:\", current_directory)\n"
   ]
  },
  {
   "cell_type": "code",
   "execution_count": null,
   "id": "dc6d07b4",
   "metadata": {},
   "outputs": [],
   "source": []
  }
 ],
 "metadata": {
  "kernelspec": {
   "display_name": "Python 3 (ipykernel)",
   "language": "python",
   "name": "python3"
  },
  "language_info": {
   "codemirror_mode": {
    "name": "ipython",
    "version": 3
   },
   "file_extension": ".py",
   "mimetype": "text/x-python",
   "name": "python",
   "nbconvert_exporter": "python",
   "pygments_lexer": "ipython3",
   "version": "3.12.0"
  }
 },
 "nbformat": 4,
 "nbformat_minor": 5
}
